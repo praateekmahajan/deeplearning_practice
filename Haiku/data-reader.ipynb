{
 "cells": [
  {
   "cell_type": "code",
   "execution_count": 73,
   "metadata": {},
   "outputs": [],
   "source": [
    "from langdetect import detect\n",
    "import csv\n",
    "haikus = []"
   ]
  },
  {
   "cell_type": "code",
   "execution_count": 74,
   "metadata": {},
   "outputs": [],
   "source": [
    "with open(\"haiku.txt\") as f:\n",
    "    content = f.readlines()\n",
    "    curr_haiku = \"\"\n",
    "    haiku_list = []\n",
    "    this_haiku = \"\"\n",
    "    for c in content:\n",
    "        c = c.strip()\n",
    "        if c == \"\":\n",
    "            try:\n",
    "                haiku_list.append(curr_haiku)\n",
    "                curr_haiku = \"\"                        \n",
    "            except:\n",
    "                curr_haiku = \"\"\n",
    "        else:\n",
    "            curr_haiku += c + \"\\t\"\n",
    "\n",
    "\n",
    "    haikus.extend(haiku_list)"
   ]
  },
  {
   "cell_type": "code",
   "execution_count": 75,
   "metadata": {},
   "outputs": [],
   "source": [
    "with open(\"haiku_all.txt\") as f:\n",
    "    content = f.readlines()\n",
    "    haikus.extend([c.strip() for c in content])"
   ]
  },
  {
   "cell_type": "code",
   "execution_count": 76,
   "metadata": {},
   "outputs": [],
   "source": [
    "haiku_list = []\n",
    "with open('haikus.csv') as csvfile:\n",
    "    spamreader = csv.reader(csvfile)\n",
    "    for row in spamreader:\n",
    "        temp_str = ' '.join(row)\n",
    "        haiku_list.append(temp_str.replace(\"\\n\",\"\\t\"))\n",
    "    haikus.extend(haiku_list)"
   ]
  },
  {
   "cell_type": "code",
   "execution_count": 77,
   "metadata": {},
   "outputs": [
    {
     "data": {
      "text/plain": [
       "16488"
      ]
     },
     "execution_count": 77,
     "metadata": {},
     "output_type": "execute_result"
    }
   ],
   "source": [
    "len(haikus)"
   ]
  },
  {
   "cell_type": "code",
   "execution_count": 82,
   "metadata": {},
   "outputs": [],
   "source": [
    "new_haikus = list((set(haikus)))"
   ]
  },
  {
   "cell_type": "code",
   "execution_count": 89,
   "metadata": {},
   "outputs": [],
   "source": [
    "def list2file(listname,file):\n",
    "    with open(file,'w') as f:\n",
    "        for item in listname:\n",
    "            f.write(\"%s\\n\" % item)\n"
   ]
  },
  {
   "cell_type": "code",
   "execution_count": 90,
   "metadata": {},
   "outputs": [],
   "source": [
    "list2file(new_haikus, \"haiku_collection.txt\")"
   ]
  },
  {
   "cell_type": "code",
   "execution_count": null,
   "metadata": {},
   "outputs": [],
   "source": []
  }
 ],
 "metadata": {
  "kernelspec": {
   "display_name": "Python 3",
   "language": "python",
   "name": "python3"
  },
  "language_info": {
   "codemirror_mode": {
    "name": "ipython",
    "version": 3
   },
   "file_extension": ".py",
   "mimetype": "text/x-python",
   "name": "python",
   "nbconvert_exporter": "python",
   "pygments_lexer": "ipython3",
   "version": "3.6.2"
  }
 },
 "nbformat": 4,
 "nbformat_minor": 2
}
