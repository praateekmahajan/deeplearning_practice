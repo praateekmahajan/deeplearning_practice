{
 "cells": [
  {
   "cell_type": "markdown",
   "metadata": {
    "colab_type": "text",
    "id": "ivncaCtSo4W1"
   },
   "source": [
    "# Some Simple TensorFlow Exercises\n",
    "\n",
    "In class, we'll discuss some of the differences between PyTorch and TensorFlow.\n",
    "\n",
    "The examples below will give you exposure to TensorFlow at the simplest level.\n",
    "\n",
    "If you intend to work more with TensorFlow, I recommend these resources:\n",
    "- [Aymeric Damien's Simple Examples](https://github.com/aymericdamien/TensorFlow-Examples). These are very simple examples that are designed to get key concepts across.\n",
    "- [Keras](https://keras.io/). Keras is a high-level library that's built *on top of* TensorFlow (with support for other backends, too). It makes using TensorFlow much easier and much less error-prone. Also, in 2017, TensorFlow officially adopted Keras, so that fork of Keras is now officially supported.\n",
    "- [TensorFlow Eager](https://research.googleblog.com/2017/10/eager-execution-imperative-define-by.html). We'll see that one of the main differences between PyTorch and TensorFlow is that, in PyTorch, computation graphs are formed *on the fly*, as computationed are peformed. In contrast, in TensorFlow, computation graphs are fully defined before they are ever run. The dynamic approach has many advantages (and some disadvantages), which we'll discuss in class. TensorFlow Eager, introduced in late 2017, aims to bring dynamic computation graphs to TensorFlow."
   ]
  },
  {
   "cell_type": "code",
   "execution_count": 2,
   "metadata": {
    "colab": {
     "autoexec": {
      "startup": false,
      "wait_interval": 0
     }
    },
    "colab_type": "code",
    "id": "CnETTtmL05gc"
   },
   "outputs": [],
   "source": [
    "%matplotlib inline\n",
    "import matplotlib.pyplot as plt\n",
    "import numpy as np\n",
    "import tensorflow as tf"
   ]
  },
  {
   "cell_type": "code",
   "execution_count": 8,
   "metadata": {
    "colab": {
     "autoexec": {
      "startup": false,
      "wait_interval": 0
     }
    },
    "colab_type": "code",
    "id": "GqLzZHX51Clx"
   },
   "outputs": [],
   "source": [
    "tf.reset_default_graph()\n",
    "\n",
    "x = [1,2,3,4]\n",
    "y = [1,2,3,5]\n",
    "z = tf.equal(x,y)\n"
   ]
  },
  {
   "cell_type": "markdown",
   "metadata": {
    "colab_type": "text",
    "id": "H7SEEDiHywEa"
   },
   "source": [
    "**Add code in the following cell to print `z`.**"
   ]
  },
  {
   "cell_type": "code",
   "execution_count": 9,
   "metadata": {
    "colab": {
     "autoexec": {
      "startup": false,
      "wait_interval": 0
     },
     "base_uri": "https://localhost:8080/",
     "height": 34,
     "output_extras": [
      {
       "item_id": 1
      }
     ]
    },
    "colab_type": "code",
    "executionInfo": {
     "elapsed": 332,
     "status": "ok",
     "timestamp": 1522617341527,
     "user": {
      "displayName": "",
      "photoUrl": "",
      "userId": ""
     },
     "user_tz": 240
    },
    "id": "vRaQYqR6yr6E",
    "outputId": "271c19f3-dba4-4ccc-b634-f421dd890ca6"
   },
   "outputs": [
    {
     "name": "stdout",
     "output_type": "stream",
     "text": [
      "Tensor(\"Equal:0\", shape=(4,), dtype=bool)\n"
     ]
    }
   ],
   "source": [
    "print(z)"
   ]
  },
  {
   "cell_type": "markdown",
   "metadata": {
    "colab_type": "text",
    "id": "zAKGcfOzyeeI"
   },
   "source": [
    "**In the following Markdown Cell, answer: What is the output of the print statement? Why are you seeing \"add\" here?**"
   ]
  },
  {
   "cell_type": "markdown",
   "metadata": {
    "colab_type": "text",
    "id": "wpN5z56By2SP"
   },
   "source": [
    "The output shows that z is a tensor. \n",
    "\n",
    "We see add here because z is a sum of x**2 and y. It can be thought of as a function that will be executed once it is run during the session. The \"function\" here is an add operation only."
   ]
  },
  {
   "cell_type": "markdown",
   "metadata": {
    "colab_type": "text",
    "id": "Fp8imWb72IMn"
   },
   "source": [
    "Let's instantiate a TensorFlow Session, *run* our computation graph, and retrieve the value of `z`."
   ]
  },
  {
   "cell_type": "code",
   "execution_count": 16,
   "metadata": {
    "colab": {
     "autoexec": {
      "startup": false,
      "wait_interval": 0
     },
     "base_uri": "https://localhost:8080/",
     "height": 34,
     "output_extras": [
      {
       "item_id": 1
      }
     ]
    },
    "colab_type": "code",
    "executionInfo": {
     "elapsed": 451,
     "status": "ok",
     "timestamp": 1522617659664,
     "user": {
      "displayName": "",
      "photoUrl": "",
      "userId": ""
     },
     "user_tz": 240
    },
    "id": "zuW_BlE-2xOX",
    "outputId": "83b3a349-ef55-4223-8853-b99f234429be"
   },
   "outputs": [
    {
     "name": "stdout",
     "output_type": "stream",
     "text": [
      "0.75\n"
     ]
    }
   ],
   "source": [
    "with tf.Session() as session:\n",
    "   \n",
    "    z_out = session.run(tf.reduce_mean(tf.cast(z, \"float\")))\n",
    "    \n",
    "print(z_out)"
   ]
  },
  {
   "cell_type": "markdown",
   "metadata": {
    "colab_type": "text",
    "id": "xNFIQ5QxzaSn"
   },
   "source": [
    "**In the following Markdown Cell, explain each line of code from the previous cell, one sentence per line.** (You don't need to explain the final `print` line; explaining the first 3 lines is enough.)"
   ]
  },
  {
   "cell_type": "markdown",
   "metadata": {
    "colab_type": "text",
    "id": "11WV9OSIzatO"
   },
   "source": [
    "1. We start a tensorflow session.\n",
    "2. We create a dictionary of our inputs to the Tensor z.\n",
    "3. We run our session, which means we run the necessary graph fragment to execute every Operation and evaluate every Tensor in the graph. To the graph we feed in the value z."
   ]
  },
  {
   "cell_type": "markdown",
   "metadata": {
    "colab_type": "text",
    "id": "QJn_X7caz4wC"
   },
   "source": [
    "**Fill in the following TODOs so that 1) `dz_dx` is an operation that computes $\\frac{dz}{dx}$ and 2) `dz_dx_out` is the value of $\\frac{dz}{dx}$ when $x = 2.0, y = 3.0$.** Hint: Take a look at the documentation for TensorFlow's `gradients` function."
   ]
  },
  {
   "cell_type": "code",
   "execution_count": 13,
   "metadata": {
    "colab": {
     "autoexec": {
      "startup": false,
      "wait_interval": 0
     },
     "base_uri": "https://localhost:8080/",
     "height": 34,
     "output_extras": [
      {
       "item_id": 1
      }
     ]
    },
    "colab_type": "code",
    "executionInfo": {
     "elapsed": 265,
     "status": "ok",
     "timestamp": 1522618177746,
     "user": {
      "displayName": "",
      "photoUrl": "",
      "userId": ""
     },
     "user_tz": 240
    },
    "id": "mgbDR6Jw1VwO",
    "outputId": "1107db1d-f2d6-4732-ca85-e876d5aa968a"
   },
   "outputs": [
    {
     "name": "stdout",
     "output_type": "stream",
     "text": [
      "4.0\n"
     ]
    }
   ],
   "source": [
    "tf.reset_default_graph()\n",
    "\n",
    "x = tf.placeholder('float', name='x')\n",
    "y = tf.placeholder('float', name='y')\n",
    "z = tf.pow(x, 2) + y\n",
    "\n",
    "dz_dx, = tf.gradients(z, x)\n",
    "\n",
    "with tf.Session() as session:\n",
    "    feed_dict = {x: 2.0, y: 3.0}\n",
    "    dz_dx_out = session.run(dz_dx, feed_dict=feed_dict)\n",
    "    \n",
    "print(dz_dx_out)"
   ]
  },
  {
   "cell_type": "markdown",
   "metadata": {
    "colab_type": "text",
    "id": "ySwiRnIf0zUf"
   },
   "source": [
    "**Fill in the following TODOs so that both `z` and `dz_dx` are both computed within a single forward, backward pass.**"
   ]
  },
  {
   "cell_type": "code",
   "execution_count": 14,
   "metadata": {
    "colab": {
     "autoexec": {
      "startup": false,
      "wait_interval": 0
     },
     "base_uri": "https://localhost:8080/",
     "height": 34,
     "output_extras": [
      {
       "item_id": 1
      }
     ]
    },
    "colab_type": "code",
    "executionInfo": {
     "elapsed": 243,
     "status": "ok",
     "timestamp": 1522618313096,
     "user": {
      "displayName": "",
      "photoUrl": "",
      "userId": ""
     },
     "user_tz": 240
    },
    "id": "oaUVGVed1X7Z",
    "outputId": "bdbbc20b-8b8e-4b68-ab70-bea4e21b1c35"
   },
   "outputs": [
    {
     "name": "stdout",
     "output_type": "stream",
     "text": [
      "7.0 4.0\n"
     ]
    }
   ],
   "source": [
    "tf.reset_default_graph()\n",
    "\n",
    "x = tf.placeholder('float', name='x')\n",
    "y = tf.placeholder('float', name='y')\n",
    "z = tf.pow(x, 2) + y\n",
    "\n",
    "dz_dx, =tf.gradients(z, x)\n",
    "\n",
    "with tf.Session() as session:\n",
    "    feed_dict = {x: 2.0, y: 3.0}\n",
    "    z_out, dz_dx_out = session.run([z, dz_dx], feed_dict=feed_dict)\n",
    "    \n",
    "print(z_out, dz_dx_out)"
   ]
  },
  {
   "cell_type": "markdown",
   "metadata": {
    "colab_type": "text",
    "id": "nWq3qGSC1JwI"
   },
   "source": [
    "**Fill in the following TODOs in order to carry out linear regression with (full) gradient descent.** Simple google searches like \"TensorFlow l2 loss\" can go a long way. However, *always pay careful attention to the inputs and outputs of the function(s) that you find*."
   ]
  },
  {
   "cell_type": "code",
   "execution_count": 0,
   "metadata": {
    "colab": {
     "autoexec": {
      "startup": false,
      "wait_interval": 0
     }
    },
    "colab_type": "code",
    "id": "SRehuvhT1aEz"
   },
   "outputs": [],
   "source": [
    "tf.reset_default_graph()\n",
    "\n",
    "display_step = 100\n",
    "\n",
    "n_samples = 100\n",
    "m_known = 5\n",
    "b_known = 10\n",
    "x_data = np.linspace(0, 1, n_samples)\n",
    "y_data = m_known*x_data + b_known + 0.1*np.random.randn(n_samples)\n",
    "\n",
    "x = tf.placeholder(tf.float32, name='x')\n",
    "m = tf.Variable(0.0, name='m')\n",
    "b = tf.Variable(0.0, name='b')\n",
    "\n",
    "y_pred = m * x + b\n",
    "\n",
    "y_true = tf.placeholder(tf.float32, name='y_true')\n",
    "\n",
    "loss = tf.nn.l2_loss(y_true - y_pred)\n",
    "\n",
    "optimizer = tf.train.GradientDescentOptimizer(0.0001)\n",
    "train_op = optimizer.minimize(loss)\n",
    "\n",
    "with tf.Session() as sess:\n",
    "    sess.run(tf.global_variables_initializer())\n",
    "    for iteration in range(2500):\n",
    "        sess.run(train_op, feed_dict={x: x_data, y_true: y_data})\n",
    "    M = sess.run(m)\n",
    "    B = sess.run(b)"
   ]
  },
  {
   "cell_type": "markdown",
   "metadata": {
    "colab_type": "text",
    "id": "8Gq-maHK3gfX"
   },
   "source": [
    "**Write code to print the final values for `m` and `b`.** (If they're not within 1% of `m_known` and `b_known`, then you need to debug.)"
   ]
  },
  {
   "cell_type": "code",
   "execution_count": 22,
   "metadata": {
    "colab": {
     "autoexec": {
      "startup": false,
      "wait_interval": 0
     },
     "base_uri": "https://localhost:8080/",
     "height": 34,
     "output_extras": [
      {
       "item_id": 1
      }
     ]
    },
    "colab_type": "code",
    "executionInfo": {
     "elapsed": 286,
     "status": "ok",
     "timestamp": 1522619011700,
     "user": {
      "displayName": "",
      "photoUrl": "",
      "userId": ""
     },
     "user_tz": 240
    },
    "id": "xLXbMpJk3h0-",
    "outputId": "d85dc9c1-f35f-4ac6-eb47-0ad08ff269c9"
   },
   "outputs": [
    {
     "name": "stdout",
     "output_type": "stream",
     "text": [
      "5.067363 9.954947\n"
     ]
    }
   ],
   "source": [
    "print(M, B)"
   ]
  },
  {
   "cell_type": "markdown",
   "metadata": {
    "colab_type": "text",
    "id": "Jif9vMSD1dgN"
   },
   "source": [
    "**Modify the code above to create a list of losses, named `losses`, containing the loss value at each iteration (as a float). Below, plot the result, as we have done in previous labs.**"
   ]
  },
  {
   "cell_type": "code",
   "execution_count": 0,
   "metadata": {
    "colab": {
     "autoexec": {
      "startup": false,
      "wait_interval": 0
     }
    },
    "colab_type": "code",
    "id": "EdI7jcEP31XS"
   },
   "outputs": [],
   "source": [
    "tf.reset_default_graph()\n",
    "\n",
    "display_step = 100\n",
    "\n",
    "n_samples = 100\n",
    "m_known = 5\n",
    "b_known = 10\n",
    "x_data = np.linspace(0, 1, n_samples)\n",
    "y_data = m_known*x_data + b_known + 0.1*np.random.randn(n_samples)\n",
    "losses = []\n",
    "\n",
    "x = tf.placeholder(tf.float32, name='x')\n",
    "m = tf.Variable(0.0, name='m')\n",
    "b = tf.Variable(0.0, name='b')\n",
    "\n",
    "y_pred = m * x + b\n",
    "\n",
    "y_true = tf.placeholder(tf.float32, name='y_true')\n",
    "\n",
    "loss = tf.nn.l2_loss(y_true - y_pred)\n",
    "\n",
    "optimizer = tf.train.GradientDescentOptimizer(0.0001)\n",
    "train_op = optimizer.minimize(loss)\n",
    "\n",
    "with tf.Session() as sess:\n",
    "    sess.run(tf.global_variables_initializer())\n",
    "    for iteration in range(2500):\n",
    "        sess.run(train_op, feed_dict={x: x_data, y_true: y_data})\n",
    "        losses.append((sess.run(loss, feed_dict={x: x_data, y_true: y_data})))"
   ]
  },
  {
   "cell_type": "code",
   "execution_count": 28,
   "metadata": {
    "colab": {
     "autoexec": {
      "startup": false,
      "wait_interval": 0
     },
     "base_uri": "https://localhost:8080/",
     "height": 284,
     "output_extras": [
      {
       "item_id": 1
      },
      {
       "item_id": 2
      }
     ]
    },
    "colab_type": "code",
    "executionInfo": {
     "elapsed": 397,
     "status": "ok",
     "timestamp": 1522619322501,
     "user": {
      "displayName": "",
      "photoUrl": "",
      "userId": ""
     },
     "user_tz": 240
    },
    "id": "9Hy635XvLYMM",
    "outputId": "73536370-ed98-407f-bacf-adc48544fe24"
   },
   "outputs": [
    {
     "data": {
      "text/plain": [
       "[<matplotlib.lines.Line2D at 0x7fe6bff55278>]"
      ]
     },
     "execution_count": 28,
     "metadata": {
      "tags": []
     },
     "output_type": "execute_result"
    },
    {
     "data": {
      "image/png": "[encoded data removed]",
      "text/plain": [
       "<matplotlib.figure.Figure at 0x7fe6c2beea90>"
      ]
     },
     "metadata": {
      "tags": []
     },
     "output_type": "display_data"
    }
   ],
   "source": [
    "plt.plot(losses)"
   ]
  },
  {
   "cell_type": "code",
   "execution_count": 0,
   "metadata": {
    "colab": {
     "autoexec": {
      "startup": false,
      "wait_interval": 0
     }
    },
    "colab_type": "code",
    "id": "bFIkBDjXLuCX"
   },
   "outputs": [],
   "source": []
  }
 ],
 "metadata": {
  "colab": {
   "collapsed_sections": [],
   "default_view": {},
   "name": "cs382-2018-03-27-lab.ipynb",
   "provenance": [
    {
     "file_id": "134HPQbWkbWLnD8Q7tQy-v3v8KKW2ygBY",
     "timestamp": 1522181513358
    }
   ],
   "version": "0.3.2",
   "views": {}
  },
  "kernelspec": {
   "display_name": "Python 3",
   "language": "python",
   "name": "python3"
  },
  "language_info": {
   "codemirror_mode": {
    "name": "ipython",
    "version": 3
   },
   "file_extension": ".py",
   "mimetype": "text/x-python",
   "name": "python",
   "nbconvert_exporter": "python",
   "pygments_lexer": "ipython3",
   "version": "3.6.2"
  }
 },
 "nbformat": 4,
 "nbformat_minor": 1
}
