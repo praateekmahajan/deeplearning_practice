{
 "cells": [
  {
   "cell_type": "code",
   "execution_count": 431,
   "metadata": {},
   "outputs": [
    {
     "name": "stdout",
     "output_type": "stream",
     "text": [
      "Populating the interactive namespace from numpy and matplotlib\n"
     ]
    },
    {
     "name": "stderr",
     "output_type": "stream",
     "text": [
      "/home/praateek/miniconda3/envs/ml/lib/python3.6/site-packages/IPython/core/magics/pylab.py:160: UserWarning: pylab import has clobbered these variables: ['sample']\n",
      "`%matplotlib` prevents importing * from pylab and numpy\n",
      "  \"\\n`%matplotlib` prevents importing * from pylab and numpy\"\n"
     ]
    }
   ],
   "source": [
    "%pylab inline\n",
    "import torch\n",
    "import torch.nn as nn\n",
    "from torch.autograd import Variable\n",
    "import torch.nn.functional as F \n",
    "import torch.utils.data\n",
    "import  torch.optim\n",
    "import numpy as np\n",
    "import matplotlib.pyplot as plt"
   ]
  },
  {
   "cell_type": "code",
   "execution_count": 432,
   "metadata": {},
   "outputs": [],
   "source": [
    "class CharRNNDataset(torch.utils.data.Dataset):\n",
    "    def __init__(self, text, sequence_length):\n",
    "        self.char_ls = sorted(list(set(text)))\n",
    "        self.vocab_size = len(self.char_ls)\n",
    "        self.char_to_int_map = dict(zip(self.char_ls, range(len(self.char_ls))))\n",
    "        self.int_to_char_map = dict(zip(range(len(self.char_ls)), self.char_ls))\n",
    "        full_data = np.array(list(map(self.char_to_int_map.get, text)))\n",
    "        # Truncate slightly so we have a num_chars = num_lines * seq_length\n",
    "        print(\"Full data\", len(full_data))\n",
    "\n",
    "        self.num_lines = int(len(full_data) / sequence_length)\n",
    "        print(\"Num lines\", self.num_lines)\n",
    "        print(\"Num lines\", self.num_lines * sequence_length)\n",
    "\n",
    "        full_data = full_data[\n",
    "            :self.num_lines * sequence_length\n",
    "        ]\n",
    "\n",
    "        full_x_data = full_data.copy()\n",
    "        full_y_data = full_data.copy()\n",
    "        full_y_data[:-1] = full_data[1:]\n",
    "        full_y_data[-1] = full_data[0]\n",
    "\n",
    "        self.x_lines = full_x_data.reshape(self.num_lines, sequence_length)\n",
    "        self.y_lines = full_y_data.reshape(self.num_lines, sequence_length)\n",
    "    def __getitem__(self, index):\n",
    "        x = torch.LongTensor(self.x_lines[index])\n",
    "        y = torch.LongTensor(self.y_lines[index])\n",
    "        return x, y\n",
    "\n",
    "    def __len__(self):\n",
    "        return self.num_lines\n",
    "\n",
    "\n",
    "def load_data(input_path, sequence_length, batch_size):\n",
    "    \"\"\" Load data and get Dataset and Dataloader \"\"\"\n",
    "    with open(input_path, \"r\", encoding=\"utf-8\") as f:\n",
    "        data = f.read()\n",
    "\n",
    "    dataset = CharRNNDataset(text=data, sequence_length=sequence_length)\n",
    "    vocab_size = dataset.vocab_size\n",
    "    dataloader = torch.utils.data.DataLoader(\n",
    "        dataset, batch_size=batch_size, shuffle=True,\n",
    "        num_workers=1)\n",
    "    return vocab_size, dataset, dataloader\n"
   ]
  },
  {
   "cell_type": "code",
   "execution_count": 433,
   "metadata": {},
   "outputs": [],
   "source": [
    "def repackage_hidden(h):\n",
    "    \"\"\"Repackages a hidden state as a new variable. The stops gradients\n",
    "    from flowing back further.\"\"\"\n",
    "    if type(h) == Variable:\n",
    "        return Variable(h.data)\n",
    "    else:\n",
    "        return tuple(repackage_hidden(v) for v in h)\n",
    "    \n",
    "def new_hidden(model, batch_size):\n",
    "    \"\"\"Get a new hidden variable\"\"\"\n",
    "    return repackage_hidden(model.init_hidden(batch_size))\n"
   ]
  },
  {
   "cell_type": "code",
   "execution_count": null,
   "metadata": {},
   "outputs": [],
   "source": []
  },
  {
   "cell_type": "code",
   "execution_count": 434,
   "metadata": {},
   "outputs": [],
   "source": [
    "class CharRNNModel(nn.Module):\n",
    "    def __init__(self, num_layers, rnn_size, vocab_size):\n",
    "        super(CharRNNModel, self).__init__()\n",
    "\n",
    "        # Parameters\n",
    "        self.num_layers = num_layers\n",
    "        self.rnn_size = rnn_size\n",
    "        self.vocab_size = vocab_size\n",
    "        # Layers (containing weights)\n",
    "        self.embedding = nn.Embedding(\n",
    "            self.vocab_size, self.rnn_size,\n",
    "        )\n",
    "\n",
    "\n",
    "        self.rnn = nn.RNN(\n",
    "            self.rnn_size,\n",
    "            self.rnn_size,\n",
    "            self.num_layers,\n",
    "            batch_first=True,\n",
    "        )\n",
    "        self.fc1 = nn.Linear(self.rnn_size, self.vocab_size)\n",
    "\n",
    "    def forward(self, x, hidden):\n",
    "        \"\"\"\n",
    "        Inputs come in with dimensions (from data loaders):\n",
    "            [batch_size, seq_length]\n",
    "        \"\"\"\n",
    "\n",
    "        # Embed\n",
    "        embedded = self.embedding(x)\n",
    "    \n",
    "        # Push through RNN\n",
    "        lstm_out, hidden = self.rnn(embedded, hidden)\n",
    "\n",
    "        # Apply Linear layer\n",
    "        output = self.fc1(lstm_out)\n",
    "\n",
    "        return output, hidden\n",
    "\n",
    "    def init_hidden(self, batch_size):\n",
    "        \"\"\"Initialize hidden weights\"\"\"\n",
    "        weight = next(self.parameters()).data\n",
    "        h = Variable(\n",
    "            weight.new(self.num_layers, batch_size, self.rnn_size).zero_()\n",
    "        )\n",
    "        return h\n",
    "    \n",
    "def train(x, y, model, criterion, optimizer, h):\n",
    "    model.zero_grad()\n",
    "    model.train()\n",
    "    output, h = model(x, h)\n",
    "    loss = criterion(output.contiguous().view(-1, vocab_size), y.view(-1))\n",
    "    loss.backward()\n",
    "    torch.nn.utils.clip_grad_norm(model.parameters(), 5)\n",
    "    optimizer.step()\n",
    "    return loss.data.cpu().numpy()[0], h\n",
    "\n",
    "def evaluate(model, h, seed, sequence_length):\n",
    "    model.eval()\n",
    "    seed_text = np.array(list(map(dataset.char_to_int_map.get, seed))).reshape(1, -1)\n",
    "    history = seed_text\n",
    "    for i in range(5):\n",
    "        predicted_input = history[:, -sequence_length:]\n",
    "        predicted_input_var = Variable(torch.LongTensor(predicted_input))\n",
    "        output, h = model(predicted_input_var, h)\n",
    "        history = np.hstack((history,np.argmax(torch.exp(output).data.numpy()[0], 1).reshape(1,-1)))\n",
    "    return history\n",
    "\n",
    "def sample(model, size=100, seed='The', top_k=None, cuda=False):\n",
    "    \"\"\" Sample characters from the model.\n",
    "    \"\"\"\n",
    "\n",
    "    model.eval()\n",
    "    seed_text = np.array(list(map(dataset.char_to_int_map.get, seed))).reshape(1, -1)\n",
    "    list_ = seed_text.reshape(-1)\n",
    "    h = model.init_hidden(1)\n",
    "    char, h = model(Variable(torch.LongTensor(seed_text)), h)\n",
    "    new_char = torch.max(F.softmax(char, dim=2)[:,2,:],1)[1]\n",
    "    list_ = seed_text.tolist()[0]\n",
    "    for i in range(100):\n",
    "        list_.append(new_char.data.view(1)[0])\n",
    "        new_char, h = model(new_char.view(1,1), h)\n",
    "        new_char = torch.max(F.softmax(new_char, dim=2),2)[1]\n",
    "    return (''.join(list(map(dataset.int_to_char_map.get, list_))))\n",
    "#     chars.append(char)\n",
    "\n",
    "#     for ii in range(size):\n",
    "#         char, h = model.predict(chars[-1], h, cuda=cuda, top_k=top_k)\n",
    "#         chars.append(char)\n",
    "\n",
    "#     return ''.join(chars)\n",
    "\n",
    "\n",
    "def sample(model, size=100, prime='The', top_k=None, cuda=False):\n",
    "    \"\"\" Sample characters from the model.\n",
    "    \"\"\"\n",
    "\n",
    "    model.eval()\n",
    "    chars = []\n",
    "    h = model.init_hidden(1)\n",
    "    for ch in prime:\n",
    "        seed_text = Variable(torch.LongTensor(np.array(list(map(dataset.char_to_int_map.get, ch))).reshape(1, -1)))\n",
    "        h = Variable(h.data)\n",
    "        output, h = model(seed_text, h)\n",
    "        p = F.softmax(output, dim = 2).data\n",
    "        top_ch = np.arange(dataset.vocab_size)\n",
    "        p = p.numpy().squeeze()\n",
    "        char = np.random.choice(top_ch, p=p/p.sum())\n",
    "        chars.append(char)\n",
    "    for ii in range(size):\n",
    "        seed_text = Variable(torch.LongTensor(np.array(chars[-1]).reshape(1, -1)))\n",
    "        h = Variable(h.data)\n",
    "        output, h = model(seed_text, h)\n",
    "        p = F.softmax(output, dim = 2).data\n",
    "        top_ch = np.arange(dataset.vocab_size)\n",
    "        p = p.numpy().squeeze()\n",
    "        char = np.random.choice(top_ch, p=p/p.sum())\n",
    "        chars.append(char)\n",
    "    return (''.join(list(map(dataset.int_to_char_map.get, chars))))\n"
   ]
  },
  {
   "cell_type": "code",
   "execution_count": 435,
   "metadata": {},
   "outputs": [
    {
     "data": {
      "text/plain": [
       "'he greary, a at\\nposery of here\\npicthe carm Barching to\\nknow he had.\\n\\nNatasha had rusope.\\n\\nNater peaher '"
      ]
     },
     "execution_count": 435,
     "metadata": {},
     "output_type": "execute_result"
    }
   ],
   "source": [
    "sample(model)"
   ]
  },
  {
   "cell_type": "code",
   "execution_count": 436,
   "metadata": {},
   "outputs": [
    {
     "name": "stdout",
     "output_type": "stream",
     "text": [
      "Full data 3196213\n",
      "Num lines 127848\n",
      "Num lines 3196200\n"
     ]
    }
   ],
   "source": [
    "epochs = 10\n",
    "hidden_units = 100\n",
    "batch_size = 14\n",
    "vocab_size, dataset, dataloader = load_data(\"warpeace_input.txt\", sequence_length=25, batch_size=batch_size)\n",
    "model = CharRNNModel(num_layers=1, rnn_size=hidden_units, vocab_size=vocab_size)\n",
    "criterion = nn.CrossEntropyLoss()\n",
    "optimizer = torch.optim.Adam(\n",
    "    model.parameters(),\n",
    "    lr=1e-3,\n",
    ")\n",
    "losses = []\n"
   ]
  },
  {
   "cell_type": "code",
   "execution_count": null,
   "metadata": {},
   "outputs": [
    {
     "name": "stdout",
     "output_type": "stream",
     "text": [
      "0 1000 1.9434893 he guard e got refurng he\n",
      "have the oxcest aperf andernusee fading mwnat, a wald, to of tf the wa! Frono\n",
      "0 2000 1.9535059 ho wy shom let he sond but shays bush hes, a Domeglening vodyen sidly of one An though these othrel how\n",
      "0 3000 1.9486865 hr restov of inted sontond reciog told your remed only tonde knook\n",
      "the vaplainstly hor udened. Befraile\n",
      "0 4000 1.8340533 hen On reapan thin he sontuinces, way futurt he harped Boow gl mude, ne were of with asskiberts Pierde \n",
      "0 5000 1.887704 here about nown Ifngerels severied the afd the yet with to along\n",
      "to we te arrisu,\" Andravis the house: \n",
      "0 6000 1.7752715 hea shown't\n",
      "chers and battant to bevineral! \"I'll,\"\n",
      "he duffad and Rostov ir uninvicar acked ank denit i\n",
      "0 7000 1.689134 hey Andytleyond mether hoult Beaces of comploy till looked on the Russiasn young out in Ruplestan that \n",
      "0 8000 1.7987539 hen migned in the like the zurred his plank of lookederats. He facent's I'm officured.\n",
      "\n",
      "Princle the lit\n",
      "0 9000 1.7548233 hi sumbrignlightragel at gothe army of: kill you grultice, so him,\n",
      "handed it oProted.\n",
      "\n",
      "\"The offorardue,\n",
      "1 1000 1.870067 he Ewing ressevee of prove of they was is of stand--infuill has imble counttinu of her entered womprove\n",
      "1 2000 1.8248374 re had\n",
      "been sigh caves chaod\n",
      "eved ind'muructiltonremain, had on taver being for all of the orld\n",
      "lear, h\n",
      "1 3000 1.7434775 he neceples and, the railed Verier....\n",
      "\n",
      "And because, to the murse fur made agn formern herd when said h\n",
      "1 4000 1.8343785 he Bostervice sign. Belitinely or te sinking lyaging move ende the manyoney's winguar and is Nicholas a\n",
      "1 5000 1.6022274 hi\n",
      "villicand were not uwittrles, conel of whitho continuetered. This were beed and the one fe but. Tupl\n",
      "1 6000 1.7007856 here callogndersthier and sollincess croops commanding, on the placeing Emperor and\n",
      "somity-rosen seever\n",
      "1 7000 1.6587458 he shoums'' would dosasant and fold frunctions the be you, and diresuls. Pierre's much reident began fa\n",
      "1 8000 1.7633373 hen brother, are had our able push ruppauttice, drothed love in that's durge his\n",
      "nother even with go li\n",
      "1 9000 1.6327658 hyy with. Natashaaking. You won\n",
      "Napoleay was how alar, wish to gre, snoperyon\n",
      "self carce ad some contar\n",
      "2 1000 1.71217 he divavivedinnembeit. On a from villich grow, a quithey how\n",
      "ach reid any to him.\n",
      "And his look?\" Race t\n",
      "2 2000 1.7133126 hen givently at?\" she remem firenced, soldier the soldier if the sutch crit was not two trdelly strespe\n",
      "2 3000 1.6643971 hore were all; his Agforn to the very freaze tind\n",
      "present, and folled in away twing lowentlya and, old\n",
      "\n",
      "2 4000 1.5831394 hi for at ait buled left Anclustiaselders'\n",
      "\n",
      "\"To to her sunder of desilive; and evently\n",
      "togen's a beforc\n",
      "2 5000 1.791996 here appeaftening own. She wor and d her\n",
      "and Bear Berghle talk the basish to che bessing longer exal ex\n",
      "2 6000 1.6638749 hi silent of sole. \"Yes, and power. Effected to forget, umy with her conspructed wearing out him of a z\n",
      "2 7000 1.752437 he reasants wichen the pole dighthole were noth for attence, fram, and inthathing people been only, and\n",
      "2 8000 1.7779082 hi regaibety from\n",
      "cble he heise, and be\n",
      "stuarmer a! Napoleony in thind, plompan manth apressions in Son\n",
      "2 9000 1.5132624 he Ecrown role had he loving.\n",
      "Lavoutho was ent, sty two in-Mindided that anothing, wish the and solest;\n",
      "3 1000 1.7155268 he had a busking, that) some but had om or guested fellow! I've did mist doderons occurgearded by, sati\n",
      "3 2000 1.8338996 he sominds be armight thad that this and began and up at Emunylough there she imma's\n",
      "life His a seresti\n",
      "3 3000 1.5340523 he Schers, and deused my again turk from\n",
      "itselperieble in adjuwitation to Denety beeth he was to\n",
      "didly\n",
      "\n",
      "3 4000 1.7816457 hed everyone and preun them.\n",
      "Kusked on one\n",
      "head s gone kin this coge and behind. \"She was starits Minqu\n",
      "3 5000 1.6566584 hare\n",
      "len of could aroup rilled out the rather rein arcompy,\" awors gaesivers), with the kneatt of the f\n",
      "3 6000 1.8226899 han corp, and worlles by so as her to eyes, wours from the counthere of got ry mmost threw you. On a th\n",
      "3 7000 1.6015964 he\n",
      "Fron's counth featarfit?\" counting she was ask felt generaps. Fronimms.\n",
      "\n",
      "A tain were from stointov o\n",
      "3 8000 1.6112994 ha?... one clussed. \"I,\" and destrovoul it, the plaralsain\n",
      "or. \"To the offety\n",
      "began help towas they. In\n",
      "3 9000 1.8406013 ho Sank had her said Vute\n",
      "convinds frighter about raint for feel misen not her\n",
      "did not her played first\n",
      "4 1000 1.6273928 heases.\"\n",
      "\n",
      "\"But I ruised Russian, took had since\n",
      "relizer to Madked about.\n",
      "\n",
      "Pierre's pusome usestorianing\n",
      "4 2000 1.8098494 hente out sppure a frid not the last that\n",
      "they down would palven and kersa.\n",
      "\n",
      "On his enexcestaiggry pide\n",
      "4 3000 1.6730374 hey vo buse on.\"\n",
      "\n",
      "\"Kutanthip\n",
      "but he says\n",
      "proverovs's take fla agtenemans and woiling throughu'ly cares \n",
      "4 4000 1.6843835 here estatal flooparto God that he went and devoidg hard not not the Emperore-for a stood any said whet\n",
      "4 5000 1.640219 ha yonerty and was a momil noties.\n",
      "\n",
      "\"Cosacher, he say but as alang and she entimaing her what feglan, a\n",
      "4 6000 1.7373737 ha time, ir drawsation receyed him Mo dike he im, and and the engs thought tran dectalflary a\n",
      "lords. Yo\n",
      "4 7000 1.6333449 hor of Sleng.\n",
      "\n",
      "\"Well, itse; hershed moment or in asked this theisich I aman it had sored.\n",
      "\n",
      "\"You and a c\n"
     ]
    }
   ],
   "source": [
    "for epoch in range(epochs):\n",
    "    h = model.init_hidden(14)\n",
    "    counter = 0\n",
    "    batch_loss = 0\n",
    "    for x, y in dataloader:\n",
    "        counter += 1\n",
    "        x_var, y_var = Variable(x), Variable(y)\n",
    "        this_batch_size = x_var.size()[0]\n",
    "        h = Variable(h.data)\n",
    "        loss_val, h = train(x_var,y_var, model, criterion, optimizer, \\\n",
    "                           h=h)\n",
    "        batch_loss += loss_val/this_batch_size\n",
    "        \n",
    "        if counter % 1000 == 0:\n",
    "            prediction = sample(model)\n",
    "#             prediction = evaluate(model, new_hidden(model, batch_size=1), 'The ', sequence_length)\n",
    "            print(epoch, counter, loss_val, prediction)\n",
    "    losses.append(batch_loss)\n",
    "        "
   ]
  },
  {
   "cell_type": "code",
   "execution_count": 97,
   "metadata": {},
   "outputs": [
    {
     "data": {
      "image/png": "[encoded data removed]",
      "text/plain": [
       "<matplotlib.figure.Figure at 0x7fdf5d420fd0>"
      ]
     },
     "metadata": {},
     "output_type": "display_data"
    }
   ],
   "source": [
    "plt.plot(range(len(losses)), losses, 'b', label='smooth loss')\n",
    "plt.xlabel('time in thousands of iterations')\n",
    "plt.ylabel('loss')\n",
    "plt.legend()\n",
    "plt.show()"
   ]
  },
  {
   "cell_type": "code",
   "execution_count": 35,
   "metadata": {},
   "outputs": [
    {
     "data": {
      "text/plain": [
       "(7,)"
      ]
     },
     "execution_count": 35,
     "metadata": {},
     "output_type": "execute_result"
    }
   ],
   "source": [
    "np.asarray([45,59,56,59,56, 1, 59]).shape"
   ]
  },
  {
   "cell_type": "code",
   "execution_count": null,
   "metadata": {},
   "outputs": [],
   "source": [
    "eval(model, model.init_hidden(1), 'The')"
   ]
  },
  {
   "cell_type": "code",
   "execution_count": 58,
   "metadata": {},
   "outputs": [
    {
     "data": {
      "text/plain": [
       "[]"
      ]
     },
     "execution_count": 58,
     "metadata": {},
     "output_type": "execute_result"
    }
   ],
   "source": [
    "losses"
   ]
  },
  {
   "cell_type": "code",
   "execution_count": 62,
   "metadata": {},
   "outputs": [
    {
     "name": "stdout",
     "output_type": "stream",
     "text": [
      "127848\n"
     ]
    }
   ],
   "source": [
    "print(len(dataset))"
   ]
  },
  {
   "cell_type": "code",
   "execution_count": null,
   "metadata": {},
   "outputs": [],
   "source": []
  }
 ],
 "metadata": {
  "kernelspec": {
   "display_name": "Python 3",
   "language": "python",
   "name": "python3"
  },
  "language_info": {
   "codemirror_mode": {
    "name": "ipython",
    "version": 3
   },
   "file_extension": ".py",
   "mimetype": "text/x-python",
   "name": "python",
   "nbconvert_exporter": "python",
   "pygments_lexer": "ipython3",
   "version": "3.6.2"
  }
 },
 "nbformat": 4,
 "nbformat_minor": 2
}
